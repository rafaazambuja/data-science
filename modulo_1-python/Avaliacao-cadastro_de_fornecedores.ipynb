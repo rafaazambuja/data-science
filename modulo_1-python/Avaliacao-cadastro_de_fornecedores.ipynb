{
 "cells": [
  {
   "cell_type": "markdown",
   "metadata": {},
   "source": [
    "# Avaliação módulo 1 - Degree Data Science\n",
    "\n",
    "Na empresa em que você trabalha foi solicitada a implementação de um sistema de cadastro dos fornecedores. As informações que devem ser cadastradas são:\n",
    "\n",
    "- Código do fornecedor;\n",
    "- Nome do fornecedor;\n",
    "- Telefone do fornecedor;\n",
    "- Email do fornecedor.\n",
    "\n",
    "Para isso, você deverá criar um script para armazenar essas informações em alguma estrutura de dados.\n",
    "\n",
    "Também como parte do sistema de cadastro, é necessário criar uma \"interface de navegação\" pelo sistema, que tenha as seguintes funcionalidades:\n",
    "\n",
    "- Permite a exibição (usando o `print`) de todas as informaçoes de contatos específicos, a partir da busca pelo código do fornecedor;\n",
    "- Permite a remoção e adição de fornecedores à estrutura de cadastro.\n",
    "\n",
    "Requisitos:\n",
    "\n",
    "- Requisito #1 - Não existe um limite para fornecedores cadastrados, portanto você deverá permitir que o usuário cadastre a quantidade que desejar.\n",
    "- Requisito #2 - Crie pelo menos uma função em seu script. Você deverá escolher pelo menos uma tarefa do seu script e implementar em uma função para chamá-la dentro da sua lógica de cadastro.\n",
    "- Requisito #3 - Crie pelo menos uma verificação em seu código, por exemplo: Se o dicionário estiver vazio, não permita a opção remover.\n",
    "\n",
    "Tópicos avaliados:\n",
    "\n",
    "- Variáveis;\n",
    "- Tipos de dados;\n",
    "- Operadores aritméticos;\n",
    "- I/O de dados;\n",
    "- Expressões lógicas e condicionais;\n",
    "- Laços de repetição;\n",
    "- Listas e dicionários;\n",
    "- Funções.\n"
   ]
  },
  {
   "cell_type": "code",
   "execution_count": 92,
   "metadata": {},
   "outputs": [],
   "source": [
    "#Funções de Operações\n",
    "\n",
    "def add_fornecedor(fornecedores, cadastro):\n",
    "    print(\"\\n------ ADICIONANDO FORNECEDOR -------\\n\")\n",
    "    buffer = []\n",
    "    \n",
    "    #Primeiro cadastro do dicionário\n",
    "    if fornecedores == {}:\n",
    "        \n",
    "        for cad in cadastro:\n",
    "            val = input(f\"Digite o {cad} do fornecedor: \")\n",
    "\n",
    "            fornecedores[cad] = [val]\n",
    "        \n",
    "        print(f\"\\nFornecedor cadastrado: {[v[0] for v in fornecedores.values()]}\")\n",
    "    \n",
    "    #Demais cadastros do dicionário\n",
    "    else:\n",
    "        for cad in cadastro:\n",
    "            val = input(f\"Digite o {cad} do fornecedor: \")\n",
    "            \n",
    "            #Validando se código do fornecedor já existe\n",
    "            if cad == 'codigo' and val in fornecedores['codigo']:\n",
    "                print(\"\\nEste código já existe\")\n",
    "                break\n",
    "            \n",
    "            buffer.append(val)\n",
    "            fornecedores[cad].append(val)\n",
    "        \n",
    "        print(f\"\\nFornecedor cadastrado: {buffer}\")\n",
    "        \n",
    "    return fornecedores\n",
    "\n",
    "\n",
    "\n",
    "\n",
    "def edita_fornecedor(fornecedores, cadastro): \n",
    "    print(\"\\n------ EDITANDO FORNECEDOR -------\\n\")\n",
    "    \n",
    "    #Cadastro vazio\n",
    "    if fornecedores == {}:\n",
    "        print(\"Não há fornecedores cadastrados\")\n",
    "        \n",
    "    else:\n",
    "        cod = input(\"Digite o código do fornecedor que deseja editar: \")\n",
    "        \n",
    "        #Verificando se o código existe\n",
    "        \n",
    "\n",
    "        i = fornecedores['codigo'].index(cod)\n",
    "            \n",
    "        buffer = [v[i] for v in fornecedores.values()]\n",
    "\n",
    "        for cad in cadastro:\n",
    "                val = input(f\"Digite o novo {cad} do fornecedor: \")\n",
    "                fornecedores[cad][i] = val\n",
    "\n",
    "                #Verificação de formato numero de telefone\n",
    "                if fornecedores[cad] == 'telefone':\n",
    "                    val = valida_telefone(val)\n",
    "\n",
    "                #Verificação de formato de email\n",
    "                elif fornecedores[cad] == 'emais':\n",
    "                    val = valida_email(val)\n",
    "                \n",
    "                \n",
    "        print(f\"O fornecedor {buffer} foi substituído por {[v[i] for v in fornecedores.values()]}\")\n",
    "    \n",
    "    return fornecedores\n",
    "   \n",
    "    \n",
    "    \n",
    "\n",
    "    \n",
    "def exclui_fornecedor(fornecedores, cadastro):\n",
    "    print(\"\\n------ EXCLUINDO FORNECEDOR -------\\n\")\n",
    "    \n",
    "    cod = input(\"Digite o código do fornecedor que deseja excluir: \")\n",
    "    \n",
    "    #Verificando se o código existe\n",
    "    cod = valida_codigo(cod)\n",
    "    \n",
    "    i = fornecedores['codigo'].index(cod)\n",
    "\n",
    "    print(\"\\nOs dados abaixo foram removidos do cadastro de fornecedores \\n\")\n",
    "    print([v[i] for v in fornecedores.values()])\n",
    "\n",
    "    for cad in cadastro:\n",
    "        fornecedores[cad].pop(i)\n",
    "    \n",
    "    return fornecedores\n",
    "\n",
    "\n",
    "\n",
    "\n",
    "def pesquisa_fornecedor(fornecedores,cadastro):\n",
    "    \n",
    "    if fornecedores == {}:\n",
    "        print(\"\\nCadastro de fornecedores vazio\")\n",
    "        \n",
    "    else:   \n",
    "        print(\"\\n------ PESQUISANDO FORNECEDOR -------\\n\")\n",
    "\n",
    "        cod = input(\"Digite o código do fornecedor: \")\n",
    "        \n",
    "        if cod not in fornecedores['codigo']:\n",
    "            print(\"\\nCódigo não encontrado\")\n",
    "            \n",
    "        else: \n",
    "            i = fornecedores['codigo'].index(cod)\n",
    "\n",
    "            print(\"\\n\")\n",
    "            print(cadastro)\n",
    "            print([v[i] for v in fornecedores.values()])"
   ]
  },
  {
   "cell_type": "code",
   "execution_count": 75,
   "metadata": {},
   "outputs": [],
   "source": [
    "#Funções de verificação\n",
    "\n",
    "def opcao_entrada(opcao):\n",
    "    while opcao not in ['1', '2', '3', '4', '9']:\n",
    "        opcao = input(\"Digite uma opção válida: \")\n",
    "    return int(opcao)\n",
    "\n",
    "#Se der tempo \n",
    "def valida_telefone(telefone):    \n",
    "    \n",
    "    return telefone\n",
    "\n",
    "def valida_email(email):\n",
    "    \n",
    "    return email"
   ]
  },
  {
   "cell_type": "code",
   "execution_count": 94,
   "metadata": {},
   "outputs": [
    {
     "name": "stdout",
     "output_type": "stream",
     "text": [
      "------ FORNECEDORES ------ \n",
      "1 - Adicionar novo fornecedor. \n",
      "2 - Editar fornecedor. \n",
      "3 - Excluir fornecedor. \n",
      "4 - Pesquisar fornecedor \n",
      "9 - Sair \n",
      "Digite sua opção: 1\n",
      "\n",
      "------ ADICIONANDO FORNECEDOR -------\n",
      "\n",
      "Digite o codigo do fornecedor: 1\n",
      "Digite o nome do fornecedor: asdssfsdvfg\n",
      "Digite o telefone do fornecedor: asdfsfagfg\n",
      "Digite o email do fornecedor: asdADAA\n",
      "\n",
      "Fornecedor cadastrado: ['1', 'asdssfsdvfg', 'asdfsfagfg', 'asdADAA']\n",
      "\n",
      "------ FORNECEDORES ------ \n",
      "1 - Adicionar novo fornecedor. \n",
      "2 - Editar fornecedor. \n",
      "3 - Excluir fornecedor. \n",
      "4 - Pesquisar fornecedor \n",
      "9 - Sair \n",
      "Digite sua opção: 4\n",
      "\n",
      "------ PESQUISANDO FORNECEDOR -------\n",
      "\n",
      "Digite o código do fornecedor: 2\n",
      "\n",
      "Código não encontrado\n"
     ]
    },
    {
     "ename": "KeyboardInterrupt",
     "evalue": "Interrupted by user",
     "output_type": "error",
     "traceback": [
      "\u001b[0;31m---------------------------------------------------------------------------\u001b[0m",
      "\u001b[0;31mKeyboardInterrupt\u001b[0m                         Traceback (most recent call last)",
      "\u001b[0;32m<ipython-input-94-716ba28650a3>\u001b[0m in \u001b[0;36m<module>\u001b[0;34m\u001b[0m\n\u001b[1;32m     24\u001b[0m     \u001b[0;32melif\u001b[0m \u001b[0mopcao\u001b[0m \u001b[0;34m==\u001b[0m \u001b[0;36m4\u001b[0m\u001b[0;34m:\u001b[0m\u001b[0;34m\u001b[0m\u001b[0;34m\u001b[0m\u001b[0m\n\u001b[1;32m     25\u001b[0m         \u001b[0mpesquisa_fornecedor\u001b[0m\u001b[0;34m(\u001b[0m\u001b[0mfornecedores\u001b[0m\u001b[0;34m,\u001b[0m \u001b[0mcadastro\u001b[0m\u001b[0;34m)\u001b[0m\u001b[0;34m\u001b[0m\u001b[0;34m\u001b[0m\u001b[0m\n\u001b[0;32m---> 26\u001b[0;31m         \u001b[0mopcao\u001b[0m \u001b[0;34m=\u001b[0m \u001b[0mopcao_entrada\u001b[0m\u001b[0;34m(\u001b[0m\u001b[0minput\u001b[0m\u001b[0;34m(\u001b[0m\u001b[0;34m\"\\n------ FORNECEDORES ------ \\n1 - Adicionar novo fornecedor. \\n2 - Editar fornecedor. \\n3 - Excluir fornecedor. \\n4 - Pesquisar fornecedor \\n9 - Sair \\nDigite sua opção: \"\u001b[0m\u001b[0;34m)\u001b[0m\u001b[0;34m)\u001b[0m\u001b[0;34m\u001b[0m\u001b[0;34m\u001b[0m\u001b[0m\n\u001b[0m\u001b[1;32m     27\u001b[0m \u001b[0;34m\u001b[0m\u001b[0m\n\u001b[1;32m     28\u001b[0m     \u001b[0;31m#Sair (opção 9)\u001b[0m\u001b[0;34m\u001b[0m\u001b[0;34m\u001b[0m\u001b[0;34m\u001b[0m\u001b[0m\n",
      "\u001b[0;32m/opt/conda/lib/python3.9/site-packages/ipykernel/kernelbase.py\u001b[0m in \u001b[0;36mraw_input\u001b[0;34m(self, prompt)\u001b[0m\n\u001b[1;32m    846\u001b[0m                 \u001b[0;34m\"raw_input was called, but this frontend does not support input requests.\"\u001b[0m\u001b[0;34m\u001b[0m\u001b[0;34m\u001b[0m\u001b[0m\n\u001b[1;32m    847\u001b[0m             )\n\u001b[0;32m--> 848\u001b[0;31m         return self._input_request(str(prompt),\n\u001b[0m\u001b[1;32m    849\u001b[0m             \u001b[0mself\u001b[0m\u001b[0;34m.\u001b[0m\u001b[0m_parent_ident\u001b[0m\u001b[0;34m,\u001b[0m\u001b[0;34m\u001b[0m\u001b[0;34m\u001b[0m\u001b[0m\n\u001b[1;32m    850\u001b[0m             \u001b[0mself\u001b[0m\u001b[0;34m.\u001b[0m\u001b[0m_parent_header\u001b[0m\u001b[0;34m,\u001b[0m\u001b[0;34m\u001b[0m\u001b[0;34m\u001b[0m\u001b[0m\n",
      "\u001b[0;32m/opt/conda/lib/python3.9/site-packages/ipykernel/kernelbase.py\u001b[0m in \u001b[0;36m_input_request\u001b[0;34m(self, prompt, ident, parent, password)\u001b[0m\n\u001b[1;32m    890\u001b[0m             \u001b[0;32mexcept\u001b[0m \u001b[0mKeyboardInterrupt\u001b[0m\u001b[0;34m:\u001b[0m\u001b[0;34m\u001b[0m\u001b[0;34m\u001b[0m\u001b[0m\n\u001b[1;32m    891\u001b[0m                 \u001b[0;31m# re-raise KeyboardInterrupt, to truncate traceback\u001b[0m\u001b[0;34m\u001b[0m\u001b[0;34m\u001b[0m\u001b[0;34m\u001b[0m\u001b[0m\n\u001b[0;32m--> 892\u001b[0;31m                 \u001b[0;32mraise\u001b[0m \u001b[0mKeyboardInterrupt\u001b[0m\u001b[0;34m(\u001b[0m\u001b[0;34m\"Interrupted by user\"\u001b[0m\u001b[0;34m)\u001b[0m \u001b[0;32mfrom\u001b[0m \u001b[0;32mNone\u001b[0m\u001b[0;34m\u001b[0m\u001b[0;34m\u001b[0m\u001b[0m\n\u001b[0m\u001b[1;32m    893\u001b[0m             \u001b[0;32mexcept\u001b[0m \u001b[0mException\u001b[0m \u001b[0;32mas\u001b[0m \u001b[0me\u001b[0m\u001b[0;34m:\u001b[0m\u001b[0;34m\u001b[0m\u001b[0;34m\u001b[0m\u001b[0m\n\u001b[1;32m    894\u001b[0m                 \u001b[0mself\u001b[0m\u001b[0;34m.\u001b[0m\u001b[0mlog\u001b[0m\u001b[0;34m.\u001b[0m\u001b[0mwarning\u001b[0m\u001b[0;34m(\u001b[0m\u001b[0;34m\"Invalid Message:\"\u001b[0m\u001b[0;34m,\u001b[0m \u001b[0mexc_info\u001b[0m\u001b[0;34m=\u001b[0m\u001b[0;32mTrue\u001b[0m\u001b[0;34m)\u001b[0m\u001b[0;34m\u001b[0m\u001b[0;34m\u001b[0m\u001b[0m\n",
      "\u001b[0;31mKeyboardInterrupt\u001b[0m: Interrupted by user"
     ]
    }
   ],
   "source": [
    "fornecedores = {}\n",
    "cadastro = [\"codigo\", \"nome\", \"telefone\", \"email\"]\n",
    "\n",
    "#Verificação de entrada\n",
    "opcao = opcao_entrada(input(\"------ FORNECEDORES ------ \\n1 - Adicionar novo fornecedor. \\n2 - Editar fornecedor. \\n3 - Excluir fornecedor. \\n4 - Pesquisar fornecedor \\n9 - Sair \\nDigite sua opção: \"))\n",
    "\n",
    "while True:   \n",
    "    #Adicionar novo fornecedor\n",
    "    if opcao == 1:\n",
    "        fornecedores = add_fornecedor(fornecedores, cadastro)\n",
    "        opcao = opcao_entrada(input(\"\\n------ FORNECEDORES ------ \\n1 - Adicionar novo fornecedor. \\n2 - Editar fornecedor. \\n3 - Excluir fornecedor. \\n4 - Pesquisar fornecedor \\n9 - Sair \\nDigite sua opção: \"))\n",
    "    \n",
    "    #Editar fornecedor existente\n",
    "    elif opcao == 2:\n",
    "        fornecedores = edita_fornecedor(fornecedores, cadastro)\n",
    "        opcao = opcao_entrada(input(\"\\n------ FORNECEDORES ------ \\n1 - Adicionar novo fornecedor. \\n2 - Editar fornecedor. \\n3 - Excluir fornecedor. \\n4 - Pesquisar fornecedor \\n9 - Sair \\nDigite sua opção: \"))\n",
    "\n",
    "    #Excluir fornecedor do cadastro\n",
    "    elif opcao == 3:\n",
    "        fornecedores = exclui_fornecedor(fornecedores, cadastro)\n",
    "        opcao = opcao_entrada(input(\"\\n------ FORNECEDORES ------ \\n1 - Adicionar novo fornecedor. \\n2 - Editar fornecedor. \\n3 - Excluir fornecedor. \\n4 - Pesquisar fornecedor \\n9 - Sair \\nDigite sua opção: \"))\n",
    "        \n",
    "    #Pesquisar fornecedor\n",
    "    elif opcao == 4:\n",
    "        pesquisa_fornecedor(fornecedores, cadastro)\n",
    "        opcao = opcao_entrada(input(\"\\n------ FORNECEDORES ------ \\n1 - Adicionar novo fornecedor. \\n2 - Editar fornecedor. \\n3 - Excluir fornecedor. \\n4 - Pesquisar fornecedor \\n9 - Sair \\nDigite sua opção: \"))\n",
    "\n",
    "    #Sair (opção 9)\n",
    "    else:\n",
    "        print(\"\\nCadastro finalizado\")\n",
    "        break\n"
   ]
  },
  {
   "cell_type": "code",
   "execution_count": 21,
   "metadata": {},
   "outputs": [
    {
     "data": {
      "text/plain": [
       "True"
      ]
     },
     "execution_count": 21,
     "metadata": {},
     "output_type": "execute_result"
    }
   ],
   "source": [
    "opcao = 1\n",
    "\n",
    "opcao in [1, 2, 3, 4, 9]"
   ]
  },
  {
   "cell_type": "code",
   "execution_count": 38,
   "metadata": {},
   "outputs": [],
   "source": [
    "import unicodedata\n",
    "def continuar(resp):\n",
    "    \n",
    "    #Tira acentos\n",
    "    ans = unicodedata.normalize(\"NFD\", resp).encode(\"ascii\", \"ignore\")\n",
    "    \n",
    "    #Transforma em minúsculo e remove espaço da frente e de tras \n",
    "    ans = ans.decode(\"utf-8\").lower().strip()\n",
    "    \n",
    "    #Remove espaços do meio\n",
    "    ans = \" \".join(ans.split())\n",
    "    \n",
    "    #Remove tudo que não seja letra\n",
    "    ans = \"\".join([char for char in ans if char.isalpha() or char == \" \"])\n",
    "    \n",
    "    return ans"
   ]
  },
  {
   "cell_type": "code",
   "execution_count": 41,
   "metadata": {},
   "outputs": [
    {
     "data": {
      "text/plain": [
       "'s i m '"
      ]
     },
     "execution_count": 41,
     "metadata": {},
     "output_type": "execute_result"
    }
   ],
   "source": [
    "continuar(\"S  í  M   !\")"
   ]
  },
  {
   "cell_type": "code",
   "execution_count": 51,
   "metadata": {},
   "outputs": [
    {
     "name": "stdout",
     "output_type": "stream",
     "text": [
      "+055(11)97375-8356\n",
      "+055(11)7375-8356\n"
     ]
    }
   ],
   "source": [
    "import re\n",
    "\n",
    "\n",
    "celular_9_digitos = '05511973758356' #celular com 9 digitos\n",
    "celular_8_digitos = '0551173758356'  #celular com 8 digitos\n",
    "\n",
    "padrao = \"([0-9]{2,3})?([0-9]{2})([0-9]{4,5})([0-9]{4})\"\n",
    "\n",
    "resposta = re.search(padrao, celular_9_digitos)\n",
    "print('+{}({}){}-{}'.format(resposta.group(1),  resposta.group(2), resposta.group(3), resposta.group(4)))\n",
    "\n",
    "resposta = re.search(padrao, celular_8_digitos)\n",
    "print('+{}({}){}-{}'.format(resposta.group(1),  resposta.group(2), resposta.group(3), resposta.group(4)))"
   ]
  },
  {
   "cell_type": "code",
   "execution_count": 63,
   "metadata": {},
   "outputs": [
    {
     "ename": "NameError",
     "evalue": "name 'cad' is not defined",
     "output_type": "error",
     "traceback": [
      "\u001b[0;31m---------------------------------------------------------------------------\u001b[0m",
      "\u001b[0;31mNameError\u001b[0m                                 Traceback (most recent call last)",
      "\u001b[0;32m<ipython-input-63-c4b91facbabc>\u001b[0m in \u001b[0;36m<module>\u001b[0;34m\u001b[0m\n\u001b[0;32m----> 1\u001b[0;31m \u001b[0mcad\u001b[0m\u001b[0;34m\u001b[0m\u001b[0;34m\u001b[0m\u001b[0m\n\u001b[0m",
      "\u001b[0;31mNameError\u001b[0m: name 'cad' is not defined"
     ]
    }
   ],
   "source": [
    "cad"
   ]
  }
 ],
 "metadata": {
  "kernelspec": {
   "display_name": "Python 3",
   "language": "python",
   "name": "python3"
  },
  "language_info": {
   "codemirror_mode": {
    "name": "ipython",
    "version": 3
   },
   "file_extension": ".py",
   "mimetype": "text/x-python",
   "name": "python",
   "nbconvert_exporter": "python",
   "pygments_lexer": "ipython3",
   "version": "3.9.2"
  }
 },
 "nbformat": 4,
 "nbformat_minor": 4
}
