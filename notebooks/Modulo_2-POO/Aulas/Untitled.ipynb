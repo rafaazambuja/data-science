{
 "cells": [
  {
   "cell_type": "markdown",
   "id": "b2bb23ca-94bd-4d95-8231-6cca8d39b848",
   "metadata": {},
   "source": [
    "# Questão 1\n",
    "\n",
    "Crie uma classe Bola cujos atributos são cor e raio. Crie um método que imprime a cor da bola. Crie um método para calcular a área dessa bola. Crie um método para calcular o volume da bola. Crie um objeto dessa classe e calcule a área e o volume, imprimindo ambos em seguida.\n",
    "\n",
    "Obs.:\n",
    "\n",
    "Área da esfera = 4*3.14*r*r;\n",
    "\n",
    "Volume da esfera = 4*3.14*r*r*r/3"
   ]
  },
  {
   "cell_type": "code",
   "execution_count": 18,
   "id": "9835cb05-76cd-4a08-be34-17914beda7b0",
   "metadata": {},
   "outputs": [
    {
     "name": "stdout",
     "output_type": "stream",
     "text": [
      "A área da bola é 200.96\n",
      "\n",
      "O volume da bola é 267.95\n",
      "\n",
      "A cor da bola é preto\n"
     ]
    }
   ],
   "source": [
    "class Bola:\n",
    "    def __init__(self, raio, cor):\n",
    "        self.raio = raio\n",
    "        self.cor = cor\n",
    "        \n",
    "    def calcula_area(self):\n",
    "        area = 4 * 3.14 * self.raio * self.raio \n",
    "        return area\n",
    "\n",
    "    def calcula_volume(self):\n",
    "        volume = (4 / 3) * 3.14 * self.raio * self.raio * self.raio\n",
    "        return volume\n",
    "    \n",
    "    def imprime_cor(self):\n",
    "        print(f'A cor da bola é {self.cor}')\n",
    "        \n",
    "\n",
    "bola1 = Bola(4, 'preto')\n",
    "\n",
    "print(f'A área da bola é {round(bola1.calcula_area(),2)}\\n')\n",
    "\n",
    "print(f'O volume da bola é {round(bola1.calcula_volume(),2)}\\n')\n",
    "\n",
    "bola1.imprime_cor()"
   ]
  },
  {
   "cell_type": "markdown",
   "id": "0543f500-9ffb-4389-a3eb-6252cc43745f",
   "metadata": {},
   "source": [
    "# Questão 2\n",
    "\n",
    "Crie uma classe Retângulo cujos atributos são lado_a e lado_b. Crie um método para calcular a área desse retângulo. Crie um objeto dessa classe e calcule a área e a imprima em seguida."
   ]
  },
  {
   "cell_type": "code",
   "execution_count": 21,
   "id": "c0ab63fb-36aa-489b-9c31-1798d3f4f133",
   "metadata": {},
   "outputs": [
    {
     "name": "stdout",
     "output_type": "stream",
     "text": [
      " A área desse retangulo é 4\n"
     ]
    }
   ],
   "source": [
    "class Retangulo:\n",
    "    def __init__(self, lado_a, lado_b):\n",
    "        self.lado_a = lado_a\n",
    "        self.lado_b = lado_b\n",
    "        \n",
    "    def calcula_area(self):\n",
    "        return self.lado_a * self.lado_b\n",
    "\n",
    "    \n",
    "quadrado = Retangulo(2, 2)\n",
    "\n",
    "print(f' A área desse retangulo é {quadrado.calcula_area()}')"
   ]
  },
  {
   "cell_type": "markdown",
   "id": "53d45503-bba9-4d47-b1e2-19d432e867f5",
   "metadata": {},
   "source": [
    "# Querstão 3\n",
    "\n",
    "Crie uma classe Funcionario cujos atributos são nome e e-mail. Guarde as horas trabalhadas em um dicionário cujas chaves são o mês em questão e, em outro dicionário, guarde o salário por hora relativo ao mês em questão. Crie um método que retorna o salário mensal do funcionário."
   ]
  },
  {
   "cell_type": "code",
   "execution_count": null,
   "id": "60a4a001-175c-4a89-ba22-f1db249bc903",
   "metadata": {},
   "outputs": [],
   "source": [
    "class Funcionario:\n",
    "    def __init__(self, nome, email):\n",
    "        self.nome = nome\n",
    "        self.email = email\n",
    "        self.registro_horas = {}\n",
    "        self.registro_salario = {}\n",
    "        "
   ]
  },
  {
   "cell_type": "markdown",
   "id": "54fc7774-00e1-47e4-b1b0-ac001ac6818a",
   "metadata": {},
   "source": [
    "# Questão 4\n",
    "\n",
    "Crie uma classe Televisor cujos atributos são:\n",
    "\n",
    "a. fabricante;\n",
    "\n",
    "b. modelo;\n",
    "\n",
    "c. canal atual;\n",
    "\n",
    "d. lista de canais; e\n",
    "\n",
    "e. volume.\n",
    "\n",
    "Faça métodos para aumentar/diminuir volume, trocar o canal e sintonizar um novo canal, que adiciona um novo canal à lista de canais (somente se esse canal não estiver nessa lista). No atributo lista de canais, devem estar armazenados todos os canais já sintonizados dessa TV.\n",
    "\n",
    "Obs.: O volume não pode ser menor que zero e maior que cem; só se pode trocar para um canal que já esteja na lista de canais."
   ]
  },
  {
   "cell_type": "markdown",
   "id": "abe65471-d443-48cc-9a28-4eee48d23836",
   "metadata": {},
   "source": [
    "# Questão 5\n",
    "\n",
    "Crie uma classe ControleRemoto cujo atributo é televisão (isso é, recebe um objeto da classe do exercício 4). Crie métodos para aumentar/diminuir volume, trocar o canal e sintonizar um novo canal, que adiciona um novo canal à lista de canais (somente se esse canal não estiver nessa lista)."
   ]
  },
  {
   "cell_type": "markdown",
   "id": "598fd6d0-1684-4de0-9fc4-17387ee2db82",
   "metadata": {},
   "source": [
    "# Questão 6\n",
    "\n",
    "O módulo time possui a função time.sleep(x), que faz seu programa “dormir” por x segundos. Utilizando essa função, crie uma classe Cronômetro e faça um programa que cronometre o tempo."
   ]
  },
  {
   "cell_type": "markdown",
   "id": "0411492b-a2e9-4217-8284-869c8769bdcf",
   "metadata": {},
   "source": [
    "# Questão 7\n",
    "\n",
    "Crie uma modelagem de classes para uma agenda capaz de armazenar contatos. Através dessa agenda é possível incluir, remover, buscar e listar contatos já cadastrados."
   ]
  },
  {
   "cell_type": "markdown",
   "id": "a8803b44-411c-485e-a757-2a519cff66dc",
   "metadata": {},
   "source": [
    "# Questão 8\n",
    "\n",
    "Crie uma classe Cliente cujos atributos são nome, idade e e-mail. Construa um método que imprima as informações tal como abaixo:\n",
    "\n",
    "```\n",
    "Nome: Fulano de Tal\n",
    "\n",
    "Idade: 40\n",
    "\n",
    "E-mail: fulano@mail.com\n",
    "```"
   ]
  },
  {
   "cell_type": "markdown",
   "id": "b3e998cd-198f-418a-b732-49b53ac93692",
   "metadata": {},
   "source": [
    "# Questão 9\n",
    "\n",
    "Com base no exercício anterior, crie um sistema de cadastro e a classe Cliente. Seu programa deve perguntar se o usuário quer cadastrar um novo cliente, alterar um cadastro ou sair.\n",
    "\n",
    "Dica: Você pode fazer esse exercício criando uma classe Sistema, que irá controlar o sistema de cadastros. Essa classe deve ter o atributo cadastro e os métodos para imprimir os cadastrados, cadastrar um novo cliente, alterar um cadastro ou sair."
   ]
  },
  {
   "cell_type": "markdown",
   "id": "aec7a40e-7dfa-4406-8f1f-d779a3ca0767",
   "metadata": {},
   "source": [
    "# Questão 10\n",
    "\n",
    "Crie uma classe ContaCorrente com os atributos cliente (que deve ser um objeto da classe Cliente) e saldo. Crie métodos para depósito, saque e transferência. Os métodos de saque e transferência devem verificar se é possível realizar a transação."
   ]
  },
  {
   "cell_type": "markdown",
   "id": "8d219a1c-ec4c-42a2-8481-29bf676843ab",
   "metadata": {},
   "source": [
    "# Questão 11\n",
    "\n",
    "Crie uma classe Fração cujos atributos são numerador (número de cima) e denominador (número de baixo).\n",
    "\n",
    "Implemente os métodos de adição, subtração, multiplicação, divisão que retornam objetos do tipo Fração.\n",
    "\n",
    "Implemente também o método _ repr _.\n",
    "\n",
    "Implemente métodos para comparação: igualdade (==) e desigualdades (!=, <=, >=, < e >)."
   ]
  },
  {
   "cell_type": "markdown",
   "id": "477938e8-8259-49c5-b950-92c5e7ce228e",
   "metadata": {},
   "source": [
    "# Questão 12 \n",
    "\n",
    "Crie uma classe Data cujos atributos são dia, mês e ano. Implemente métodos _ repr _ e para comparação: igualdade (==) e desigualdades (!=, <=, >=, < e >)."
   ]
  },
  {
   "cell_type": "markdown",
   "id": "f06500ff-df8f-4c01-bef3-157e79fc07da",
   "metadata": {},
   "source": [
    "# Questão 13\n",
    "\n",
    "Nos exercícios 1, 2, 3, 4 e 6, implemente o método _ repr _ para exibir as informações desejadas de cada uma das classes."
   ]
  },
  {
   "cell_type": "markdown",
   "id": "c49dafbb-d44b-4883-b540-f3c79e4ebed3",
   "metadata": {},
   "source": [
    "# Questão 14 \n",
    "\n",
    "Faça uma classe ContaVip que difere da ContaCorrente por ter cheque especial (novo atributo) e é filha da classe ContaCorrente. Você precisa implementar os métodos para saque, transferência ou depósito?"
   ]
  },
  {
   "cell_type": "markdown",
   "id": "a934cb26-83ab-4cb3-a443-9b62eeed6db8",
   "metadata": {},
   "source": [
    "# Questão 15\n",
    "\n",
    "Crie uma classe Quadrado, filha da classe Retângulo do exercício 2."
   ]
  },
  {
   "cell_type": "code",
   "execution_count": 7,
   "id": "8f0a3dbc-c638-47a3-8e4c-fcd4486df212",
   "metadata": {},
   "outputs": [],
   "source": [
    "# Utilitario para uso interno, definido fora da classe\n",
    "def mdc(x, y):\n",
    "    while y != 0:\n",
    "        resto = x % y\n",
    "        x = y\n",
    "        y = resto\n",
    "    return x\n",
    "\n",
    "# Nesta versão, a função __str__ é melhorada.\n",
    "# Se o denominador for 1, após simplificar, só é usado o numerador.\n",
    "# Se o numerador for 0, o retorno é \"0\".\n",
    "class Fracao:\n",
    "    def __init__(self, num, den):\n",
    "        self.num = num\n",
    "        self.den = den\n",
    "        \n",
    "    def __add__(self, f):\n",
    "        den = self.den * f.den\n",
    "        num = self.num * f.den + self.den * f.num\n",
    "        return (Fracao(num, den).simplifica())\n",
    "        \n",
    "    def __mul__(self, f):\n",
    "        num = self.num * f.num\n",
    "        den = self.den * f.den\n",
    "        return (Fracao(num, den).simplifica())\n",
    "\n",
    "    def __sub__(self, f):\n",
    "        den = self.den * f.den\n",
    "        num = self.num * f.den - self.den * f.num\n",
    "        return (Fracao(num, den).simplifica())\n",
    "        \n",
    "            \n",
    "    def __str__(self):\n",
    "        if self.num == 0:\n",
    "            return \"0\"\n",
    "        elif self.den == 1:\n",
    "            return str(self.num)\n",
    "        else:\n",
    "            return str(self.num)+'/'+ str(self.den)\n",
    "\n",
    "    def simplifica(self):\n",
    "        max = mdc(self.num, self.den)\n",
    "        self.num = self.num/max\n",
    "        self.den = self.den/max"
   ]
  },
  {
   "cell_type": "code",
   "execution_count": 9,
   "id": "fce6fb97-8e39-4463-8358-3215700d89b6",
   "metadata": {},
   "outputs": [
    {
     "name": "stdout",
     "output_type": "stream",
     "text": [
      "8/6\n"
     ]
    }
   ],
   "source": [
    "fracao1 = Fracao(8,6)\n",
    "\n",
    "#fracao1 = fracao1.simplifica()\n",
    "\n",
    "print(fracao1)"
   ]
  }
 ],
 "metadata": {
  "kernelspec": {
   "display_name": "Python 3 (ipykernel)",
   "language": "python",
   "name": "python3"
  },
  "language_info": {
   "codemirror_mode": {
    "name": "ipython",
    "version": 3
   },
   "file_extension": ".py",
   "mimetype": "text/x-python",
   "name": "python",
   "nbconvert_exporter": "python",
   "pygments_lexer": "ipython3",
   "version": "3.9.7"
  }
 },
 "nbformat": 4,
 "nbformat_minor": 5
}
