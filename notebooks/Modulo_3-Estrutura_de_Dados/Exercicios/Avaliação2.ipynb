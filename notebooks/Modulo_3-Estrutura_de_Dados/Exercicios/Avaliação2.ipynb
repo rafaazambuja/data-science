{
 "cells": [
  {
   "cell_type": "code",
   "execution_count": null,
   "id": "6ec94f0e-177f-43df-a42c-3281d506ed1d",
   "metadata": {},
   "outputs": [],
   "source": [
    "def compare_lists(llist1, llist2):\n",
    "    if llist1 == None:\n",
    "        if llist2 == None:\n",
    "            return 1\n",
    "        return 0\n",
    "    \n",
    "    while (llist1 != None) and (llist2 != None):\n",
    "        if llist1.data == llist2.data:\n",
    "            llist1 = llist1.next\n",
    "            llist2 = llist2.next\n",
    "        else:\n",
    "            return 0\n",
    "    \n",
    "    if (llist1 == None) & (llist2 == None):\n",
    "        return 1\n",
    "    else:\n",
    "        return 0"
   ]
  },
  {
   "cell_type": "code",
   "execution_count": null,
   "id": "8cd39090-fd13-4ae2-92b9-480be921e05e",
   "metadata": {},
   "outputs": [],
   "source": []
  }
 ],
 "metadata": {
  "kernelspec": {
   "display_name": "Python 3 (ipykernel)",
   "language": "python",
   "name": "python3"
  },
  "language_info": {
   "codemirror_mode": {
    "name": "ipython",
    "version": 3
   },
   "file_extension": ".py",
   "mimetype": "text/x-python",
   "name": "python",
   "nbconvert_exporter": "python",
   "pygments_lexer": "ipython3",
   "version": "3.9.7"
  }
 },
 "nbformat": 4,
 "nbformat_minor": 5
}
