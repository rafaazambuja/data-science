{
 "cells": [
  {
   "cell_type": "markdown",
   "id": "9f8d0cfb-c3df-4119-928e-a8cb722e65dd",
   "metadata": {},
   "source": [
    "## Avaliação 1"
   ]
  },
  {
   "cell_type": "markdown",
   "id": "4ef295c5-cb6f-472a-9c93-908dcbafdaac",
   "metadata": {},
   "source": [
    "1. Birthday Cake Candles"
   ]
  },
  {
   "cell_type": "code",
   "execution_count": 1,
   "id": "c221342a-97d7-49c1-82a1-2108f7e709aa",
   "metadata": {},
   "outputs": [],
   "source": [
    "def birthdayCakeCandles(candles):\n",
    "    \n",
    "    tallest = max(candles)\n",
    "    n = 0\n",
    "    for i in candles:\n",
    "        if i == tallest:\n",
    "            n += 1\n",
    "    return n"
   ]
  },
  {
   "cell_type": "markdown",
   "id": "211b11a3-13d6-4aca-bdf1-2b29624b35a9",
   "metadata": {},
   "source": [
    "2. Time Conversion"
   ]
  },
  {
   "cell_type": "code",
   "execution_count": 2,
   "id": "1811155c-0885-4c25-891d-f452128ca2c6",
   "metadata": {},
   "outputs": [],
   "source": [
    "def timeConversion(s):\n",
    "    \n",
    "    time = s.split(\":\")\n",
    "    \n",
    "    if 'PM' in time[2]:\n",
    "        if time[0] != \"12\":\n",
    "            time[0] = str(int(time[0]) + 12)\n",
    "    else:\n",
    "        if time[0] == \"12\":\n",
    "            time[0] = \"00\"\n",
    "            \n",
    "    time = ':'.join(time)\n",
    "    \n",
    "    return time[:-2]"
   ]
  },
  {
   "cell_type": "markdown",
   "id": "4e31611d-720e-4fea-90c6-4ef610094350",
   "metadata": {},
   "source": [
    "3. Staircase"
   ]
  },
  {
   "cell_type": "code",
   "execution_count": 3,
   "id": "dfe0f283-6bcf-471b-b0a3-44fdc7fd4255",
   "metadata": {},
   "outputs": [],
   "source": [
    "def staircase(n):\n",
    "    for i in range(n):\n",
    "        print((n - (i+1)) * ' ' + (i+1) * '#')"
   ]
  },
  {
   "cell_type": "markdown",
   "id": "c4ae3440-87d8-49c8-a7bc-e455bf372967",
   "metadata": {},
   "source": [
    "## Avalização 2"
   ]
  },
  {
   "cell_type": "markdown",
   "id": "e8f3c933-bbb3-4ae3-84a6-6c38b7f5a6df",
   "metadata": {},
   "source": [
    "1. Compare two linked lists"
   ]
  },
  {
   "cell_type": "code",
   "execution_count": 4,
   "id": "7fef0215-54ee-4bf4-9d7b-ed08be6db07a",
   "metadata": {},
   "outputs": [],
   "source": [
    "def compare_lists(llist1, llist2):\n",
    "    if llist1 == None:\n",
    "        if llist2 == None:\n",
    "            return 1\n",
    "        return 0\n",
    "    \n",
    "    while (llist1 != None) and (llist2 != None):\n",
    "        if llist1.data == llist2.data:\n",
    "            llist1 = llist1.next\n",
    "            llist2 = llist2.next\n",
    "        else:\n",
    "            return 0\n",
    "    \n",
    "    if (llist1 == None) & (llist2 == None):\n",
    "        return 1\n",
    "    else:\n",
    "        return 0"
   ]
  },
  {
   "cell_type": "markdown",
   "id": "61958084-1c95-4581-ac88-89cbf8457ee6",
   "metadata": {},
   "source": [
    "2. Recursive Digit Sum\n"
   ]
  },
  {
   "cell_type": "code",
   "execution_count": 5,
   "id": "1d6fd607-4b6e-4f3f-8231-99c9cbda8675",
   "metadata": {},
   "outputs": [],
   "source": [
    "def superDigit(n, k):\n",
    "    s = digitSum(n)\n",
    "    return supDigit(str(int(s)*k))\n",
    "\n",
    "def supDigit(n):\n",
    "    if len(n) == 1:\n",
    "        return n\n",
    "    return supDigit(digitSum(n))\n",
    "\n",
    "def digitSum(n):\n",
    "    return str(sum((int(i) for i in list(n))))"
   ]
  },
  {
   "cell_type": "markdown",
   "id": "17d59740-e385-492c-890d-485cb65f4cce",
   "metadata": {},
   "source": [
    "3. Sherlock and Array\n"
   ]
  },
  {
   "cell_type": "code",
   "execution_count": 6,
   "id": "443b4e23-cf6e-4527-886b-2118e15a2705",
   "metadata": {},
   "outputs": [],
   "source": [
    "def balancedSums(arr):\n",
    "    tot = sum(arr)\n",
    "    add = 0\n",
    "    for i in arr:\n",
    "        if add == tot - i - add:\n",
    "            return \"YES\"\n",
    "        add += i\n",
    "    return \"NO\""
   ]
  }
 ],
 "metadata": {
  "kernelspec": {
   "display_name": "Python 3 (ipykernel)",
   "language": "python",
   "name": "python3"
  },
  "language_info": {
   "codemirror_mode": {
    "name": "ipython",
    "version": 3
   },
   "file_extension": ".py",
   "mimetype": "text/x-python",
   "name": "python",
   "nbconvert_exporter": "python",
   "pygments_lexer": "ipython3",
   "version": "3.9.7"
  }
 },
 "nbformat": 4,
 "nbformat_minor": 5
}
