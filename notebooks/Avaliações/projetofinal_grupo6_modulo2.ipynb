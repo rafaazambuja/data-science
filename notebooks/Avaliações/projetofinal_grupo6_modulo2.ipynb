{
 "cells": [
  {
   "cell_type": "markdown",
   "metadata": {},
   "source": [
    "# Organizando uma eleição\n",
    "(créditos ao professor Rafael)"
   ]
  },
  {
   "cell_type": "markdown",
   "metadata": {},
   "source": [
    "O último ano foi extremamente desafiador para você. Além de estarmos vivendo uma pandemia que aumentou nossa preocupação com a nossa própria vida e com nossos entes queridos e estarmos obrigados a passar mais tempo em casa para garantir nossa segurança, você se matriculou em um curso de programação e ciência de dados para mudar de rumo em sua carreira!\n",
    "\n",
    "O _timing_ pareceu ideal: mais tempo em casa, mais tempo para estudar. Porém, você esbarrou em algumas dificuldades. O condomínio está em reforma, e você passa o dia ao som de marretadas no piso. Durante a noite, no horário da sua aula online, seus vizinhos - um casal passando por dificuldades na relação - costumam discutir em voz alta. A discussão deles frequentemente acorda o bebê do outro vizinho e todos os cachorros do andar no prédio. Deixar para estudar no final de semana não ajuda, pois o filho adolescente da família do apartamento logo acima do seu costuma trazer os colegas de banda para ensaiar. \n",
    "\n",
    "A situação se tornou insustentável, e o síndico - que é o mesmo senhorzinho desde que você se mudou para esse condomínio, há mais de 10 anos - não toma atitudes e não gosta de ser perturbado. Chegou a hora de organizar uma eleição para um novo síndico, e você tomou a iniciativa de montar um sistema eletrônico para auxiliar na votação."
   ]
  },
  {
   "cell_type": "markdown",
   "metadata": {},
   "source": [
    "## Entidades envolvidas\n",
    "\n",
    "Podemos imaginar as seguintes entidades envolvidas na eleição:\n",
    "\n",
    "* **Morador**: representa cada uma das pessoas que moram no prédio. Possui um nome, um Apartamento e é capaz de depositar um voto em um Candidato em uma Urna.\n",
    "* **Candidato**: é um tipo especial de Morador. Possui tudo o que o morador possui, mas também possui um número que será usado para representá-lo na Urna e uma contagem individual de votos.\n",
    "* **Apartamento**: representa cada uma das unidades do prédio. Possui uma lista de moradores e um status indicando se ele já votou ou não. Cada apartamento tem direito a exatamente 1 voto. Se a sua filha já votou, você não pode mais votar!\n",
    "* **Urna**: coleciona votos. Ela possui uma coleção de candidatos e uma coleção de moradores (lembrando que o candidato também conta como morador!). Ela armazena a quantidade de votos de cada candidato e é capaz de incrementar essa quantidade ao receber um voto novo. Ela também possui uma coleção de apartamentos e é capaz de determinar quais apartamentos já votaram (mas não qual apartamento votou em cada candidato - o voto é secreto). Quando o último apartamento votar, ela publica os resultados e declara o vencedor.\n",
    "\n",
    "Vamos pensar juntos em meios de implementar cada uma das classes."
   ]
  },
  {
   "cell_type": "markdown",
   "metadata": {},
   "source": [
    "### Morador\n",
    "\n",
    "A classe mais básica de nossa eleição, representando cada uma das pessoas que habitam no condomínio. O morador obrigatoriamente possui um nome e um Apartamento.\n",
    "\n",
    "Seu construtor pode ou não receber uma string contendo o nome, e pode ou não receber um objeto Apartamento. Caso ele não receba um nome, deverá solicitar a digitação de um através do input. Caso ele não receba um objeto Apartamento, deverá pedir por input o número do apartamento e criar o objeto.\n",
    "\n",
    "O nome e apartamento digitados ou recebidos deverão se tornar atributos do objeto.\n",
    "\n",
    "Nosso objeto também deverá possuir um método para votar. Ele deverá receber um objeto Urna e pode receber um número inteiro correspondente ao número de um candidato ou, caso não receba, irá ler o número pelo teclado. Ela deverá primeiro verificar se o seu apartamento já votou, e caso não tenha, ela irá chamar o método de acrescentar voto na Urna, informando o número de seu candidato e passando seu objeto apartamento. Caso contrário, ela exibirá uma mensagem alertando que esse apartamento já votou."
   ]
  },
  {
   "cell_type": "code",
   "execution_count": 1,
   "metadata": {},
   "outputs": [],
   "source": [
    "class Morador:\n",
    "    '''\n",
    "    Classe Morador que cria um morador(self).\n",
    "    '''\n",
    "    def __init__(self, nome, apartamento, cpf):\n",
    "        '''\n",
    "        Método construtor da classe Morador.\n",
    "\n",
    "        Parâmetros\n",
    "        ----------\n",
    "        nome : str\n",
    "            Nome do self(morador), possibilidade por input ou declarado.\n",
    "        apartamento : int\n",
    "            Número do apartamento do self(morador), possibilidade por input ou declarado.\n",
    "        cpf : int\n",
    "            CPF do self(morador).\n",
    "        '''\n",
    "        \n",
    "        # atributos do método construtor\n",
    "        self.nome = nome\n",
    "        self.apartamento = apartamento\n",
    "        self.cpf=cpf\n",
    "    \n",
    "    def __repr__(self): \n",
    "        '''\n",
    "        Método para representação do objeto da classe Morador\n",
    "\n",
    "        '''\n",
    "        \n",
    "        return f'Nome: {self.nome}\\nApartamento: {self.apartamento}\\nCPF: {self.cpf}'"
   ]
  },
  {
   "cell_type": "markdown",
   "metadata": {},
   "source": [
    "### Candidato\n",
    "\n",
    "Objetos da classe Candidato são, necessariamente, moradores. Eles possuem as mesmas informações e as mesmas ações que um morador. O que isso significa em programação orientada a objeto?\n",
    "\n",
    "Ele possui outros dois atributos: o seu número que será usado para identificá-lo na Urna e sua contagem de votos. Ambos devem ser inicializados com valor 0. \n",
    "\n",
    "Ele deve oferecer métodos para que seu número seja configurado (quando cadastrarmos o candidato na Urna, ela irá fornecer um número para ele), bem como para que sua contagem de votos seja atualizada (ao final da votação, a Urna irá atualizar a contagem de todos os candidatos)."
   ]
  },
  {
   "cell_type": "code",
   "execution_count": 2,
   "metadata": {},
   "outputs": [],
   "source": [
    "class Candidato(Morador):\n",
    "    def __init__(self,nome,apartamento,cpf):\n",
    "        super().__init__(nome,apartamento,cpf)\n",
    "        '''\n",
    "        Construtor\n",
    "\n",
    "        Parametros\n",
    "        ----------\n",
    "        nome : str\n",
    "            O nome do candidato, herdado da classe Morador\n",
    "        apartamento : int\n",
    "            O apartamento do candidato, herdado da classe Morador\n",
    "        cpf : int\n",
    "            O CPF do candidato, herdado da classe Morador\n",
    "        votos : int\n",
    "            O número de votos que o candidato recebeu\n",
    "        identificador : int\n",
    "            O número de identificação do candidato\n",
    "        '''\n",
    "        self.votos=0\n",
    "        self.identificador=0\n",
    "    \n",
    "    def __repr__(self):\n",
    "        return f\"{self.nome}\"\n",
    "    \n",
    "    def define_identificador(self,numero_urna):\n",
    "        '''\n",
    "        Método para definir o número de identificação do usuário\n",
    "\n",
    "        Parametros\n",
    "        ----------\n",
    "        numero_urna : int\n",
    "            Número de identificação, a ser dado pelo objeto da classe Urna\n",
    "\n",
    "        '''\n",
    "        self.identificador=numero_urna"
   ]
  },
  {
   "cell_type": "markdown",
   "metadata": {},
   "source": [
    "### Apartamento\n",
    "\n",
    "Objetos da classe Apartamento irão agregar objetos Morador. Isso significa que um de seus atributos será uma lista de moradores. Quando um Apartamento é criado, sua lista começará vazia. O Apartamento deve oferecer métodos para adicionar moradores novos (recebe um objeto Morador e adiciona à lista) e para visualizar seus moradores.\n",
    "\n",
    "Cada apartamento tem direito a exatamente um voto na eleição para síndico. Portanto, cada objeto também deve ter um atributo indicando se aquele apartamento já votou ou não. A classe deve fornecer meios para que a esse atributo possa ser atualizado, pois quando um morador votar, a urna irá alterar esse atributo registrando que o apartamento já votou."
   ]
  },
  {
   "cell_type": "code",
   "execution_count": 3,
   "metadata": {},
   "outputs": [],
   "source": [
    "class Apartamento:\n",
    "    def __init__(self, numero_ap):\n",
    "        '''\n",
    "        Construtor\n",
    "\n",
    "        Parametros\n",
    "        ----------\n",
    "        numero_ap : int\n",
    "            O número do apartamento a ser cadastrado\n",
    "        registrou_voto : bool\n",
    "            Verificação se algum morador do apartamento votou\n",
    "        lista_moradores : list\n",
    "            Lista com os moradores (Objetos da classe Morador) do apartamento\n",
    "        '''\n",
    "        \n",
    "        self.numero_ap = numero_ap\n",
    "        self.__registrou_voto = False \n",
    "        self.lista_moradores=[]\n",
    "        \n",
    "\n",
    "    def mostra_moradores(self):\n",
    "        '''\n",
    "        Método para mostrar a lista de moradores de um Apartamento\n",
    "        '''     \n",
    "        for i in range (len(self.lista_moradores)):\n",
    "            print (self.lista_moradores[i])               \n",
    "            \n",
    "    def __repr__(self):\n",
    "        '''\n",
    "        Método representar um determinado objeto da Classe Apartamento\n",
    "        '''  \n",
    "        return f\"Apartamento {self.numero_ap} - Moradores: {self.lista_moradores}\"\n",
    "        \n",
    "    def incluir_novo_morador(self, novo_morador): \n",
    "        '''\n",
    "        Método para incluir um morador na lista de moradores\n",
    "\n",
    "        Parametros\n",
    "        ----------\n",
    "        novo_morador : Morador\n",
    "            Objeto da classe Morador a ser incluido no apartamento\n",
    "        '''\n",
    "        self.lista_moradores.append(novo_morador)\n",
    "\n",
    "    def registra_voto(self):\n",
    "        '''\n",
    "        Método indicar se o Apartamento votou ou nao\n",
    "        '''\n",
    "        self.__registrou_voto=True\n",
    "\n",
    "    @property\n",
    "    def registrou_voto(self):\n",
    "        '''\n",
    "        Setter do Metodo registra_voto\n",
    "        '''\n",
    "        return self.__registrou_voto\n"
   ]
  },
  {
   "cell_type": "markdown",
   "metadata": {},
   "source": [
    "### Urna\n",
    "A classe mais complexa do projeto. Ela é responsável por boa parte da lógica da nossa eleição.\n",
    "\n",
    "Seu construtor deverá criar como atributos uma coleção de apartamentos e outra de candidatos - escolha a estrutura de dados que julgar mais adequada.\n",
    "\n",
    "A classe deve fornecer métodos que permitam o cadastro de apartamentos (recebendo como parâmetro objetos Apartamento já existentes) e candidatos (idem). Ao receber um candidato para cadastro, ela deverá gerar um número **único** para representar esse candidato na eleição e irá ajustar esse atributo diretamente no objeto candidato.\n",
    "\n",
    "Ela também deve ter um método para receber um voto, que deve receber um objeto apartamento e o número de um candidato. Ela deve atualizar a contagem de voto do candidato cujo número foi recebido, e marcar aquele apartamento como já votado. Se o apartamento que votou era o último que ainda podia votar, a urna deve imediatamente imprimir os resultados.\n",
    "\n",
    "Bole uma maneira que a urna possa sinalizar para o programa principal se ela já encerrou a votação ou não."
   ]
  },
  {
   "cell_type": "code",
   "execution_count": 4,
   "metadata": {},
   "outputs": [],
   "source": [
    "class Urna:\n",
    "    numero_candidatos=0\n",
    "    def __init__(self):\n",
    "        '''\n",
    "        Construtor\n",
    "\n",
    "        Parametros\n",
    "        ----------\n",
    "        lista_apartamentos : list\n",
    "            Lista dos apartamentos participantes na votação\n",
    "        lista_ap_votantes : list\n",
    "            Lista dos apartamentos que ja votaram\n",
    "        lista_candidatos : dict\n",
    "            Dicionário dos candidatos participantes {identificador:objeto}\n",
    "        lista_candidatos_votos : dict\n",
    "            Dicionário dos candidatos e respectivos votos {objeto:votos}\n",
    "        '''\n",
    "        self.lista_apartamentos=[]\n",
    "        self.lista_ap_votantes=[]\n",
    "        self.lista_candidatos={}\n",
    "        self.lista_candidatos_votos={}\n",
    "                \n",
    "    def adiciona_candidato(self,candidato):\n",
    "        '''\n",
    "        Adiciona o candidato e seu número à urna\n",
    "        \n",
    "        Parâmetros\n",
    "        ----------\n",
    "        candidato: objeto da classe Candidato\n",
    "        '''\n",
    "        Urna.numero_candidatos+=1\n",
    "        candidato.define_identificador(Urna.numero_candidatos)\n",
    "        self.lista_candidatos.update({Urna.numero_candidatos:candidato})\n",
    "               \n",
    "    def adiciona_apartamento(self,apartamento):\n",
    "        '''\n",
    "        Adiciona um apartamento criado à lista\n",
    "        \n",
    "        Parâmetros\n",
    "        -----------\n",
    "        Apartamento: objeto da classe Apartamento\n",
    "        '''\n",
    "        self.lista_apartamentos.append(apartamento)\n",
    "\n",
    "    def recebe_voto(self,apartamento,candidato):\n",
    "        '''\n",
    "        Método para receber os votos\n",
    "\n",
    "        Parametros\n",
    "        ----------\n",
    "        apartamento : Apartamento\n",
    "            Objeto da classe Apartamento que realizará o voto\n",
    "        candidato : Candidato\n",
    "            Objeto da classe Candidato que irá receber um voto\n",
    "        '''\n",
    "        self.lista_ap_votantes.append(apartamento)\n",
    "        candidato.votos+=1\n",
    "        apartamento.registra_voto()\n",
    "    \n",
    "    def lista_votos_totais(self):\n",
    "        '''\n",
    "        Printa os candidatos e seus respectivos votos\n",
    "        '''\n",
    "        for candidato in self.lista_candidatos_votos:\n",
    "            print (f\"Candidato: {self.lista_candidatos[candidato].nome} - Votos: {self.lista_candidatos_votos[candidato]}\")\n",
    "    \n",
    "    def mostra_vencedor(self):\n",
    "        '''\n",
    "        Ao terminar a eleição informa quem foi o vencedor\n",
    "        '''\n",
    "        for candidato in self.lista_candidatos_votos:\n",
    "            if self.lista_candidatos_votos[candidato] == max(self.lista_candidatos_votos.values()):\n",
    "                print (f\"Candidato vencedor: {self.lista_candidatos[candidato].nome} - Votos: {self.lista_candidatos_votos[candidato]}\")\n",
    "\n",
    "    def verifica_votacao(self):\n",
    "        '''\n",
    "        Responsável por chamar os metódos de fim de eleição self.lista_votos_totais e self.mostra_vencedor\n",
    "        '''\n",
    "        for candidato in self.lista_candidatos:\n",
    "            self.lista_candidatos_votos.update({candidato:self.lista_candidatos[candidato].votos})\n",
    "        self.lista_votos_totais()\n",
    "        self.mostra_vencedor() \n",
    "        "
   ]
  },
  {
   "cell_type": "markdown",
   "metadata": {},
   "source": [
    "## O programa principal\n",
    "\n",
    "Seu programa principal terá 3 etapas - fique à vontade para modularizar essas etapas com o auxílio de funções, ou mesmo utilizar outras classes se julgar necessário.\n",
    "\n",
    "* Cadastro: o programa deverá ler informações sobre cada pessoa e ir criando os objetos Morador/Candidato e Apartamento correspondentes. Lembre-se de sempre perguntar se a próxima pessoa a ser lida é ou não candidata para decidir a melhor forma de instanciá-la no sistema.\n",
    "\n",
    "* Configuração: o programa deverá utilizar as informações obtidasna etapa anterior para criar uma urna.\n",
    "\n",
    "* Votação: o programa ficará em loop permitindo que diferentes moradores votem (ou tentem votar). Nessa etapa, o programa deve ser capaz de identificar qual o morador votando e utilizar os métodos criados previamente para realizar o voto. Quando a classe Urna informar que a votação acabou, o loop deve ser encerrado."
   ]
  },
  {
   "cell_type": "markdown",
   "metadata": {},
   "source": [
    "* verificar lista de apartamentos cadastrados\n",
    "* verificar cadastro de morador\n",
    "* verificar cadastro de candidato\n",
    "* verificar cadastro de apartamento"
   ]
  },
  {
   "cell_type": "code",
   "execution_count": 5,
   "metadata": {},
   "outputs": [
    {
     "name": "stdout",
     "output_type": "stream",
     "text": [
      "ELEIÇÕES DO CONDOMÍNIO UZAI'S RESIDENCE\n"
     ]
    },
    {
     "name": "stdin",
     "output_type": "stream",
     "text": [
      "\n",
      "Digite a opção desejada: \n",
      "1 - NOVO CADASTRO \n",
      "2 - VER CADASTRO \n",
      "3 - VOTAÇÃO \n",
      "4 - SAIR \n",
      ": 1\n"
     ]
    },
    {
     "name": "stdout",
     "output_type": "stream",
     "text": [
      "\n",
      "NOVO CADASTRO!\n",
      "\n"
     ]
    },
    {
     "name": "stdin",
     "output_type": "stream",
     "text": [
      "Digite o nome do morador:  Vladimir\n",
      "Digite o número do apartamento:  1\n",
      "Digite o número do CPF sem traço e pontos:  1\n",
      "O Morador é candidato? (S/N):  s\n",
      "\n",
      "Digite a opção desejada: \n",
      "1 - NOVO CADASTRO \n",
      "2 - VER CADASTRO \n",
      "3 - VOTAÇÃO \n",
      "4 - SAIR \n",
      ": 1\n"
     ]
    },
    {
     "name": "stdout",
     "output_type": "stream",
     "text": [
      "\n",
      "NOVO CADASTRO!\n",
      "\n"
     ]
    },
    {
     "name": "stdin",
     "output_type": "stream",
     "text": [
      "Digite o nome do morador:  Carol\n",
      "Digite o número do apartamento:  2\n",
      "Digite o número do CPF sem traço e pontos:  2\n",
      "O Morador é candidato? (S/N):  S\n",
      "\n",
      "Digite a opção desejada: \n",
      "1 - NOVO CADASTRO \n",
      "2 - VER CADASTRO \n",
      "3 - VOTAÇÃO \n",
      "4 - SAIR \n",
      ": 1\n"
     ]
    },
    {
     "name": "stdout",
     "output_type": "stream",
     "text": [
      "\n",
      "NOVO CADASTRO!\n",
      "\n"
     ]
    },
    {
     "name": "stdin",
     "output_type": "stream",
     "text": [
      "Digite o nome do morador:  Spark\n",
      "Digite o número do apartamento:  3\n",
      "Digite o número do CPF sem traço e pontos:  3\n",
      "O Morador é candidato? (S/N):  s\n",
      "\n",
      "Digite a opção desejada: \n",
      "1 - NOVO CADASTRO \n",
      "2 - VER CADASTRO \n",
      "3 - VOTAÇÃO \n",
      "4 - SAIR \n",
      ": 3\n"
     ]
    },
    {
     "name": "stdout",
     "output_type": "stream",
     "text": [
      "\n",
      "VOTAÇÃO!\n",
      "\n"
     ]
    },
    {
     "name": "stdin",
     "output_type": "stream",
     "text": [
      "Digite o CPF da pessoa que vai votar:  1\n"
     ]
    },
    {
     "name": "stdout",
     "output_type": "stream",
     "text": [
      "\n",
      "Candidato: Vladimir - Número: 1\n",
      "\n",
      "\n",
      "Candidato: Carol - Número: 2\n",
      "\n",
      "\n",
      "Candidato: Spark - Número: 3\n",
      "\n"
     ]
    },
    {
     "name": "stdin",
     "output_type": "stream",
     "text": [
      "\n",
      "Digite o número do candidato que quer votar:  1\n",
      "\n",
      "Digite a opção desejada: \n",
      "1 - NOVO CADASTRO \n",
      "2 - VER CADASTRO \n",
      "3 - VOTAÇÃO \n",
      "4 - SAIR \n",
      ": 3\n"
     ]
    },
    {
     "name": "stdout",
     "output_type": "stream",
     "text": [
      "\n",
      "VOTAÇÃO!\n",
      "\n"
     ]
    },
    {
     "name": "stdin",
     "output_type": "stream",
     "text": [
      "Digite o CPF da pessoa que vai votar:  2\n"
     ]
    },
    {
     "name": "stdout",
     "output_type": "stream",
     "text": [
      "\n",
      "Candidato: Vladimir - Número: 1\n",
      "\n",
      "\n",
      "Candidato: Carol - Número: 2\n",
      "\n",
      "\n",
      "Candidato: Spark - Número: 3\n",
      "\n"
     ]
    },
    {
     "name": "stdin",
     "output_type": "stream",
     "text": [
      "\n",
      "Digite o número do candidato que quer votar:  1\n",
      "\n",
      "Digite a opção desejada: \n",
      "1 - NOVO CADASTRO \n",
      "2 - VER CADASTRO \n",
      "3 - VOTAÇÃO \n",
      "4 - SAIR \n",
      ": 3\n"
     ]
    },
    {
     "name": "stdout",
     "output_type": "stream",
     "text": [
      "\n",
      "VOTAÇÃO!\n",
      "\n"
     ]
    },
    {
     "name": "stdin",
     "output_type": "stream",
     "text": [
      "Digite o CPF da pessoa que vai votar:  1\n"
     ]
    },
    {
     "name": "stdout",
     "output_type": "stream",
     "text": [
      "\n",
      "O apartamento do morador selecionado já votou!\n"
     ]
    },
    {
     "name": "stdin",
     "output_type": "stream",
     "text": [
      "\n",
      "Digite a opção desejada: \n",
      "1 - NOVO CADASTRO \n",
      "2 - VER CADASTRO \n",
      "3 - VOTAÇÃO \n",
      "4 - SAIR \n",
      ": 3\n"
     ]
    },
    {
     "name": "stdout",
     "output_type": "stream",
     "text": [
      "\n",
      "VOTAÇÃO!\n",
      "\n"
     ]
    },
    {
     "name": "stdin",
     "output_type": "stream",
     "text": [
      "Digite o CPF da pessoa que vai votar:  3\n"
     ]
    },
    {
     "name": "stdout",
     "output_type": "stream",
     "text": [
      "\n",
      "Candidato: Vladimir - Número: 1\n",
      "\n",
      "\n",
      "Candidato: Carol - Número: 2\n",
      "\n",
      "\n",
      "Candidato: Spark - Número: 3\n",
      "\n"
     ]
    },
    {
     "name": "stdin",
     "output_type": "stream",
     "text": [
      "\n",
      "Digite o número do candidato que quer votar:  1\n"
     ]
    },
    {
     "name": "stdout",
     "output_type": "stream",
     "text": [
      "Candidato: Vladimir - Votos: 3\n",
      "Candidato: Carol - Votos: 0\n",
      "Candidato: Spark - Votos: 0\n",
      "Candidato vencedor: Vladimir - Votos: 3\n"
     ]
    }
   ],
   "source": [
    "# Método para garantir que será digitado um número inteiro\n",
    "def testa_inteiro(numero):\n",
    "    while True: \n",
    "        try:\n",
    "            numero=int(numero)\n",
    "            return numero\n",
    "        except:\n",
    "            numero = input(\"ERRO: DIGITE APENAS NUMEROS \")\n",
    "\n",
    "# Inicializando o programa\n",
    "print(\"ELEIÇÕES DO CONDOMÍNIO UZAI'S RESIDENCE\")\n",
    "\n",
    "# Inicializa variável de opção do menu\n",
    "opcao_geral = ''\n",
    "\n",
    "# Inicia a instância Urna\n",
    "urna = Urna()\n",
    "\n",
    "# Dicionários de armazenamento de objeto Moradores e objeto Apartamentos\n",
    "dict_morador = {} # key = CPF morador\n",
    "dict_apartamento = {} # key = numero do apartamento\n",
    "\n",
    "# Listas de candidatos e votos para plotagem do resultado\n",
    "lista_plot_candidatos = [] \n",
    "lista_plot_votos = []     \n",
    "\n",
    "while opcao_geral != '4':\n",
    "    opcao_geral = input (\"\\nDigite a opção desejada: \\n1 - NOVO CADASTRO \\n2 - VER CADASTRO \\n3 - VOTAÇÃO \\n4 - SAIR \\n:\")\n",
    "    if opcao_geral == '1':\n",
    "        opcao_candidato = ''\n",
    "        print (\"\\nNOVO CADASTRO!\\n\")\n",
    "        \n",
    "        # Recebe os valores por input do usuário\n",
    "        nome = input(\"Digite o nome do morador: \")\n",
    "        ap = testa_inteiro(input(\"Digite o número do apartamento: \"))\n",
    "        cpf = testa_inteiro(input(\"Digite o número do CPF sem traço e pontos: \"))\n",
    "        opcao_candidato = input(\"O Morador é candidato? (S/N): \").upper()\n",
    "        # Verifica a entrada da opção de candidato\n",
    "        while opcao_candidato != 'S' and opcao_candidato!='N':\n",
    "            opcao_candidato = input(\"Por favor, digite apenas S ou N: \").upper()\n",
    "        \n",
    "        # Verifica se o CPF já está cadastrado como morador\n",
    "        if cpf not in dict_morador:\n",
    "            # Verifica se é Candidato\n",
    "            if opcao_candidato == 'N': \n",
    "                # Se NÃO, cria o objeto Morador e salva no dicionário\n",
    "                objetomorador = Morador(nome,ap,cpf) \n",
    "                dict_morador.update({cpf:objetomorador}) \n",
    "            else: \n",
    "                # Se SIM, cria o objeto Candidato, cadastra na urna e adiciona ao dicionário\n",
    "                objetomorador = Candidato(nome,ap,cpf) \n",
    "                urna.adiciona_candidato(objetomorador) \n",
    "                dict_morador.update({cpf:objetomorador}) \n",
    "            \n",
    "            # Verifica se o numero do apartamento já foi cadastrado como Objeto    \n",
    "            if ap not in dict_apartamento:\n",
    "                # Se NÂO, cria o objeto Apartamento, salva no dicionário, incluir o morador no apartamento e adiciona a lista de apartamentos da urna\n",
    "                objetoap = Apartamento(ap) \n",
    "                dict_apartamento.update({ap:objetoap}) \n",
    "                objetoap.incluir_novo_morador(objetomorador) \n",
    "                urna.adiciona_apartamento(objetoap) \n",
    "            else:\n",
    "                # Se SIM, apenas adiciona o morador ao apartamento\n",
    "                dict_apartamento[ap].incluir_novo_morador(objetomorador)\n",
    "        else:\n",
    "            print(\"CPF já cadastrado!\")\n",
    "\n",
    "    elif opcao_geral == '2':\n",
    "        ver_cadastro = ''\n",
    "        print (\"\\nVER CADASTROS!\\n\")\n",
    "        \n",
    "        while ver_cadastro != '4':\n",
    "            ver_cadastro = input(\"Digite a opção desejada: \\n1 - LISTA DE APARTAMENTOS \\n2 - LISTA DE MORADORES \\n3 - LISTA DE CANDIDATOS \\n4 - VOLTAR \\n:\")\n",
    "            \n",
    "            # Mostra a lista de apartamentos \n",
    "            if ver_cadastro == '1':\n",
    "                print(f\"\\nOs apartamentos cadastrados são: {list(dict_apartamento.keys())}\\n\")\n",
    "            \n",
    "            # Mostra a lista de moradores de um apartamento\n",
    "            elif ver_cadastro == '2':        \n",
    "                codigo_apartamento = testa_inteiro(input(\"\\nDigite o número do apartamento: \"))\n",
    "                \n",
    "                # Verifica se o apartamente existe                \n",
    "                if codigo_apartamento in dict_apartamento.keys():\n",
    "                    print (f\"\\nMoradores cadastrados no apartamento: {dict_apartamento[codigo_apartamento].lista_moradores}\\n\")\n",
    "                else:\n",
    "                    print(\"\\nApartamento não encontrado!\\n\")\n",
    "            \n",
    "            # Mostra a lista de candidatos\n",
    "            elif ver_cadastro == '3':\n",
    "                # Verifica se existe candidato cadastrado\n",
    "                if urna.numero_candidatos > 0:\n",
    "                    for candidato in urna.lista_candidatos:\n",
    "                        print(f\"Candidato: {urna.lista_candidatos[candidato]} - Número: {candidato}\\n\")\n",
    "                else:\n",
    "                    print(\"Nenhum candidato cadastrado!\")\n",
    "            \n",
    "            elif ver_cadastro == '4':\n",
    "                print(\"VOLTANDO...\")\n",
    "                \n",
    "            else:\n",
    "                print(\"Por favor, digide apenas sua opção, de 1 a 4\\n:\")      \n",
    "\n",
    "    elif opcao_geral == '3':\n",
    "        print(\"\\nVOTAÇÃO!\\n\")\n",
    "        # Solicita o CPF da pessoa que irá votar\n",
    "        cpf_votacao = testa_inteiro(input(\"Digite o CPF da pessoa que vai votar: \"))\n",
    "        \n",
    "        # Verifica se o CPF existe na lista de moradores\n",
    "        if cpf_votacao in dict_morador.keys():\n",
    "            # Define qual apartamento irá exercer o voto\n",
    "            ap_votacao = dict_morador[cpf_votacao].apartamento\n",
    "            \n",
    "            # Verifica se o apartamento já votou\n",
    "            if dict_apartamento[ap_votacao].registrou_voto == False:\n",
    "                # Se NÃO, printa a lista de candidatos\n",
    "                for candidato in urna.lista_candidatos:\n",
    "                        print(f\"\\nCandidato: {urna.lista_candidatos[candidato]} - Número: {candidato}\\n\")\n",
    "                        \n",
    "                # Solicita o numero do candidato que receberá o voto\n",
    "                numero_votacao = testa_inteiro(input(\"\\nDigite o número do candidato que quer votar: \"))\n",
    "                \n",
    "                # Computa o voto dentro da Urna\n",
    "                if numero_votacao in urna.lista_candidatos.keys():\n",
    "                    urna.recebe_voto(dict_apartamento[ap_votacao],urna.lista_candidatos[numero_votacao])\n",
    "                else:\n",
    "                    print(\"Candidato não encontrado!\")\n",
    "                    \n",
    "                # Verifica se todos os apartamentos já votaram\n",
    "                if len(urna.lista_apartamentos) == len(urna.lista_ap_votantes):\n",
    "                    urna.verifica_votacao()\n",
    "                    for chave in urna.lista_candidatos:\n",
    "                        lista_plot_candidatos.append(urna.lista_candidatos[chave].nome)\n",
    "                        lista_plot_votos.append(urna.lista_candidatos_votos[chave])\n",
    "                    break\n",
    "            else:\n",
    "                print(\"\\nO apartamento do morador selecionado já votou!\")\n",
    "        else:\n",
    "            print(\"\\nMorador não encontrado!\")\n"
   ]
  },
  {
   "cell_type": "markdown",
   "metadata": {},
   "source": [
    "## Dicas\n",
    "\n",
    "* Métodos mágicos: no mínimo uma _representação imprimível_ dos objetos de cada classe seria desejável para facilitar a sua vida. No caso de um morador, podemos imprimir seu nome e número do apartamento. No caso de um candidato, poderíamos incluir o número da urna. No caso do apartamento, seria legal imprimir todos os moradores. E no caso da urna, podemos ter dois casos: antes da votação acabar, apenas a lista de apartamentos que já votou deveria ser impressa. Após o término da votação, ela deveria imprimir quantos votos cada candidato recebeu e qual deles venceu.\n",
    "\n",
    "* Arquivos e testes: note que vocês sempre foram orientados a passar dados por parâmetros **ou** digitá-los. Se você bolar um esquema inteligente com arquivos em formato padronizado (como CSV) e organizar direitinho seu programa principal, você consegue gerar um único arquivo com todos os moradores e suas respectivas informações (número do apartamento, se é ou não candidato e em quem gostaria de votar) e automatizar completamente as etapas do seu programa.\n",
    "\n",
    "* Segurança adicional: atualmente, cada apartamento armazena a informação se já votou ou não. Mas e se o apartamento pudesse alterar essa informação e enganar a urna? Você pode colocar uma camada redundante de segurança fazendo com que a urna TAMBÉM controle quais apartamentos já votaram. Mesmo que o apartamento diga que não votou, se a urna está registrando que ele votou, então um hipotético segundo voto deve ser recusado. Veja se consegue pensar em outras possíveis falhas de segurança em potencial no programa. Lembre-se sempre de pensar do ponto de vista de uma classe e \"desconfiar\" das outras.\n",
    "\n",
    "* Criatividade: os enunciados trazem o **mínimo** que você precisa fazer para que o seu programa funcione como foi planejado. Isso não impede que você crie outros métodos, acrescente informações que possam ser úteis e até mesmo crie outras classes para modelar melhor outros fatores que poderiam ser considerados na organização da sua eleição.\n"
   ]
  },
  {
   "cell_type": "markdown",
   "metadata": {},
   "source": [
    "## Bônus: representação visual dos votos\n",
    "\n",
    "A função abaixo gera um gráfico de barras mostrando quantos votos cada candidato teve! Cole-a em sua classe Urna e faça os devidos ajustes para que ela use os atributos da Urna ao invés dos parâmetros utilizados. \n",
    "\n",
    "O programinha na célula seguinte apenas ilustra o funcionamento da função.\n"
   ]
  },
  {
   "cell_type": "code",
   "execution_count": null,
   "metadata": {},
   "outputs": [],
   "source": [
    "# importanto a bibliotecas Matplotlib e Pandas\n",
    "import pandas as pd\n",
    "import matplotlib.pyplot as plt\n",
    "%matplotlib inline\n",
    "\n",
    "# construindo o dataframe\n",
    "lista_votacao = list(zip(lista_plot_candidatos, lista_plot_votos ))\n",
    "df = pd.DataFrame(lista_votacao, columns = ['Candidatos', 'Votos'])\n",
    "\n",
    "# construindo a função para o gráfico em barras\n",
    "def grafico1_Votos(lista_votacao):\n",
    "    print('\\n>>>> Parabéns a eleito <<<<\\n')\n",
    "    plt.figure(figsize = (7, 4))\n",
    "    plt.bar(lista_plot_candidatos, lista_plot_votos, ec = \"k\", alpha = .6, color = \"red\")\n",
    "    plt.title('Resultado Eleições')\n",
    "    plt.xlabel('Candidatos')\n",
    "    plt.ylabel('Votos')\n",
    "\n",
    "# construindo a função para o gráfico em pizza\n",
    "def grafico2_Votos(lista_votacao):\n",
    "    print('\\nTotal dos votos por candidato\\n')\n",
    "    print(df.head())\n",
    "    print('\\nProporção de votos por candidato\\n')\n",
    "    plt.pie(lista_plot_votos, \n",
    "        labels = lista_plot_candidatos,  \n",
    "        colors = [\"#20257c\", \"#424ad1\", \"#6a8ee8\", \"#66bbe2\", \"#66dee2\", \"#6ce2cb\", \"#6ad187\", \"#3b7f5b\"],\n",
    "        labeldistance = 1.1,\n",
    "        wedgeprops = {\"ec\": \"k\"}, \n",
    "        textprops = {\"fontsize\": 10},\n",
    "        )\n",
    "    plt.axis(\"equal\")\n",
    "    plt.title('Resultado Eleições')\n",
    "    plt.legend()"
   ]
  },
  {
   "cell_type": "code",
   "execution_count": 232,
   "metadata": {},
   "outputs": [
    {
     "name": "stdout",
     "output_type": "stream",
     "text": [
      "\n",
      ">>>> Parabéns a eleito <<<<\n",
      "\n"
     ]
    },
    {
     "data": {
      "image/png": "[encoded data removed]",
      "text/plain": [
       "<Figure size 504x288 with 1 Axes>"
      ]
     },
     "metadata": {
      "needs_background": "light"
     },
     "output_type": "display_data"
    }
   ],
   "source": [
    "grafico1_Votos(lista_votacao)"
   ]
  },
  {
   "cell_type": "code",
   "execution_count": 233,
   "metadata": {},
   "outputs": [
    {
     "name": "stdout",
     "output_type": "stream",
     "text": [
      "\n",
      "Total dos votos por candidato\n",
      "\n",
      "  Candidatos  Votos\n",
      "0      Diego      3\n",
      "1    Evellyn      2\n",
      "\n",
      "Proporção de votos por candidato\n",
      "\n"
     ]
    },
    {
     "data": {
      "image/png": "[encoded data removed]",
      "text/plain": [
       "<Figure size 432x288 with 1 Axes>"
      ]
     },
     "metadata": {},
     "output_type": "display_data"
    }
   ],
   "source": [
    "grafico2_Votos(lista_votacao)"
   ]
  }
 ],
 "metadata": {
  "kernelspec": {
   "display_name": "Python 3",
   "language": "python",
   "name": "python3"
  },
  "language_info": {
   "codemirror_mode": {
    "name": "ipython",
    "version": 3
   },
   "file_extension": ".py",
   "mimetype": "text/x-python",
   "name": "python",
   "nbconvert_exporter": "python",
   "pygments_lexer": "ipython3",
   "version": "3.8.8"
  }
 },
 "nbformat": 4,
 "nbformat_minor": 4
}
