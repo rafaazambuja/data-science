{
 "cells": [
  {
   "cell_type": "markdown",
   "id": "51126f5b-b055-4f11-8099-7becfba76d49",
   "metadata": {},
   "source": [
    "Mini Projeto 1\n",
    "\n",
    "Você trabalha em uma Rede Social e precisa criar uma estrutura que represente as pessoas que a usam em python (com Programação Orientado a Objetos).\n",
    "É necessário guardar informações das pessoas que utilizam essa rede social:\n",
    "\n",
    "- nome\n",
    "- apelido\n",
    "- data de nascimento\n",
    "- e-mail\n",
    "- amigos\n",
    "- lista de interesses\n",
    "- posts\n",
    "\n",
    "E além disso, existem algumas funcionalidades que precisamos ter:\n",
    "\n",
    "- adicionar um amigo na lista de amigos\n",
    "- adicionar um interesse na lista interesses\n",
    "- postar\n",
    "- calcular a quantidade de amigos\n",
    "- calcular a quantidade de posts\n",
    "- dado um nome, verificar se existe uma pessoa com esse nome na sua lista de amizade\n",
    "- dado uma palavra ou frase, trazer TODOS os posts com aquela palavra (procurar post)\n",
    "- mostrar os posts dos amigos\n",
    "\n",
    "Parâmetros de correção:\n",
    "\n",
    "- Documentação\n",
    "- Bom nomes de classe, atributos, métodos, etc.\n",
    "- Lógica"
   ]
  },
  {
   "cell_type": "code",
   "execution_count": 1,
   "id": "cf072c80-4679-48ce-acaa-4f79f77f4ca6",
   "metadata": {},
   "outputs": [],
   "source": [
    "class Pessoa:\n",
    "    def __init__(self, nome, apelido, data_nascimento, email):\n",
    "        '''\n",
    "        Cria o cadastro de uma pessoa na Rede Social\n",
    "        \n",
    "        Parâmetros\n",
    "        -------------\n",
    "        nome : str\n",
    "            Nome da pessoa\n",
    "        apelido : str\n",
    "            Apelido da pessoa\n",
    "        data_nascimento : str\n",
    "            Data de nascimento da pessoa\n",
    "        email : str\n",
    "            E-mail da pessoa        \n",
    "        '''\n",
    "        \n",
    "        # verificando o tipo de entrada\n",
    "        if not isinstance(nome, str):\n",
    "            raise TypeError(\"O nome precisa ser do tipo string\")\n",
    "        if not isinstance(apelido, str):\n",
    "            raise TypeError(\"O apelido precisa ser do tipo string\")\n",
    "        if not isinstance(data_nascimento, str):\n",
    "            raise TypeError(\"A data de nascimento precisa ser do tipo string\")\n",
    "        if not isinstance(email, str):\n",
    "            raise TypeError(\"O e-mail precisa ser do tipo string\")\n",
    "        \n",
    "        # criando atributos\n",
    "        self.nome = nome\n",
    "        self.apelido = apelido\n",
    "        self.data_nascimento = data_nascimento\n",
    "        self.email = email\n",
    "            \n",
    "        # atributos não obrigatórios na criação do cadastro\n",
    "        self.lista_amigos = []\n",
    "        self.lista_interesses = []\n",
    "        self.lista_posts = []\n",
    "            \n",
    "        \n",
    "    def add_amigo(self, amigo):\n",
    "        '''\n",
    "        Adiciona uma pessoa a sua rede de amigos\n",
    "        \n",
    "        Parâmetros\n",
    "        -------------\n",
    "        amigo : Pessoa\n",
    "            Pessoa que deseja adicionar a lista de amigos\n",
    "        \n",
    "        Retorno\n",
    "        -------------\n",
    "        out : Bool\n",
    "            True se adicionou, False se não foi possível adicionar      \n",
    "        '''\n",
    "        \n",
    "        # verificando o tipo de entrada\n",
    "        if not isinstance(amigo, Pessoa):\n",
    "            raise TypeError(\"O amigo precisa ser da classe Pessoa\")\n",
    "            \n",
    "        # verifica se as duas pessoas já não são amigas\n",
    "        if amigo not in self.lista_amigos:\n",
    "            # adiciona o amigo na lista do self\n",
    "            self.lista_amigos.append(amigo)\n",
    "            # adiciona o self na lista do amigo\n",
    "            amigo.lista_amigos.append(self)\n",
    "            return True\n",
    "        return False\n",
    "    \n",
    "    \n",
    "    def add_interesse(self, interesse):\n",
    "        '''\n",
    "        Adiciona interesse a lista de interesses\n",
    "        \n",
    "        Parâmetros\n",
    "        ------------\n",
    "        interesse : str\n",
    "            Interesse que deseja adicionar a lista de interesse do self\n",
    "            \n",
    "        Retorno\n",
    "        ------------\n",
    "        out : Bool\n",
    "            True se interesse foi adicionado a lista,\n",
    "            False se o interesse já estava na lista        \n",
    "        '''\n",
    "        \n",
    "        # verificando o tipo de entrada\n",
    "        if not isinstance(interesse, str):\n",
    "            raise TypeError(\"O interesse precisa ser do tipo string\")\n",
    "        \n",
    "        # verifica se o interesse já está cadastrado na lista de interesse\n",
    "        if interesse not in self.lista_interesses:\n",
    "            # adiciona o interesse na lista do self\n",
    "            self.lista_interesses.append(interesse)\n",
    "            return True\n",
    "        return False\n",
    "\n",
    "    \n",
    "    def postar(self, post):\n",
    "        '''\n",
    "        Adiciona um novo post a lista de posts do self\n",
    "        \n",
    "        Parâmetros\n",
    "        -------------\n",
    "        post : str\n",
    "            Palavra ou frase que deseja postar\n",
    "        '''\n",
    "        \n",
    "        # verificando o tipo de entrada\n",
    "        if not isinstance(post, str):\n",
    "            raise TypeError(\"O post precisa ser do tipo string\")\n",
    "            \n",
    "        self.lista_posts.append(post)\n",
    "        \n",
    "    \n",
    "    def calcula_amigos(self):\n",
    "        '''\n",
    "        Calcula a quantidade de amigos do self\n",
    "        \n",
    "        Retorno\n",
    "        ----------\n",
    "        out : int\n",
    "            Quantidade de amigos na lista de amigos\n",
    "        '''        \n",
    "        \n",
    "        return len(self.lista_amigos)\n",
    "        \n",
    "        \n",
    "    def quantidade_posts(self):\n",
    "        '''\n",
    "        Calcula a quantidade de posts do self\n",
    "        \n",
    "        Retorno\n",
    "        ----------\n",
    "        out : int\n",
    "            Quantidade de posts na lista de posts\n",
    "        '''\n",
    "        \n",
    "        return len(self.lista_posts)\n",
    "        \n",
    "        \n",
    "    def busca_amigo(self, amigo):\n",
    "        '''\n",
    "        Buscador de amigos na lista de amigos\n",
    "        \n",
    "        Parâmetros\n",
    "        -------------\n",
    "        nome_amigo : Pessoa\n",
    "            Verifica se o amigo está em lista de amigos do self\n",
    "        \n",
    "        Retorno\n",
    "        ----------\n",
    "        out : Bool\n",
    "            True se o amigo está na lista de amgios,\n",
    "            False se o amigo não está na lista de amigos        \n",
    "        '''\n",
    "        \n",
    "        if not isinstance(amigo, Pessoa):\n",
    "            raise TypeError(\"O amigo precisa ser da classe Pessoa\")\n",
    "        \n",
    "        if nome_amigo in self.lista_amigos:\n",
    "            return True\n",
    "        return False\n",
    "    \n",
    "    def busca_post(self, busca):\n",
    "        '''\n",
    "        Busca palavra ou frase na lista de posts do self\n",
    "        \n",
    "        Parâmetros\n",
    "        -------------\n",
    "        busca : str\n",
    "            String a ser buscada na lista de posts\n",
    "            \n",
    "        Retorno\n",
    "        ----------\n",
    "        out : list\n",
    "            Retorna uma lista com todos os posts que contem o parâmetro buscado        \n",
    "        '''\n",
    "        \n",
    "        # verificando o tipo de entrada\n",
    "        if not isinstance(busca, str):\n",
    "            raise TypeError(\"O busca precisa ser do tipo string\")\n",
    "                  \n",
    "        # percorre item por item da lista de post e \n",
    "        # compara cada elemento s à string buscada\n",
    "        return [s for s in self.lista_posts if busca.lower() in s.lower()]\n",
    "    \n",
    "    \n",
    "    def mostra_post_amigos(self):\n",
    "        '''\n",
    "        Mostra todos os posts dos amigos do self\n",
    "        \n",
    "        Retorno\n",
    "        out : print()\n",
    "            Mostra o nome do amigo e abaixo uma lista com todos os posts deste amigo\n",
    "        '''\n",
    "        for amigo in self.lista_amigos:\n",
    "            print(f'{amigo}')\n",
    "            print(f'{[s for s in amigo.lista_posts]} \\n')\n",
    "            \n",
    "    \n",
    "    def __repr__(self):\n",
    "        return f'{self.nome}'\n",
    "        "
   ]
  },
  {
   "cell_type": "code",
   "execution_count": 2,
   "id": "731ed58c-2360-40b2-8cc4-eb2a06e24afa",
   "metadata": {},
   "outputs": [],
   "source": [
    "rafael = Pessoa(\n",
    "    nome='Rafael',\n",
    "    apelido = 'Rafa',\n",
    "    data_nascimento = '08/03/1994',\n",
    "    email = 'rafabuja@gmail.com'    \n",
    ")\n",
    "\n",
    "daniela = Pessoa(\n",
    "    nome = 'Daniela',\n",
    "    apelido = 'Dani',\n",
    "    data_nascimento = '29/03/1996',\n",
    "    email = 'daani@gmail.com' \n",
    ")\n",
    "\n",
    "tiago = Pessoa(\n",
    "    nome = 'Tiago',\n",
    "    apelido = 'Ti',\n",
    "    data_nascimento = '21/02/1995',\n",
    "    email = 'tiago@gmail.com' \n",
    ")"
   ]
  },
  {
   "cell_type": "code",
   "execution_count": 3,
   "id": "4c1d2451-d306-49db-aecb-dcbf6a47f107",
   "metadata": {},
   "outputs": [
    {
     "data": {
      "text/plain": [
       "True"
      ]
     },
     "execution_count": 3,
     "metadata": {},
     "output_type": "execute_result"
    }
   ],
   "source": [
    "rafael.add_amigo(tiago)"
   ]
  },
  {
   "cell_type": "code",
   "execution_count": 4,
   "id": "f9d3b910-dd58-4985-aa8d-b60b0880f866",
   "metadata": {},
   "outputs": [
    {
     "data": {
      "text/plain": [
       "True"
      ]
     },
     "execution_count": 4,
     "metadata": {},
     "output_type": "execute_result"
    }
   ],
   "source": [
    "tiago.add_amigo(daniela)"
   ]
  },
  {
   "cell_type": "code",
   "execution_count": 5,
   "id": "f14132f6-5167-4a62-9400-6027ad4457c4",
   "metadata": {},
   "outputs": [
    {
     "data": {
      "text/plain": [
       "True"
      ]
     },
     "execution_count": 5,
     "metadata": {},
     "output_type": "execute_result"
    }
   ],
   "source": [
    "rafael.add_interesse('data science')\n",
    "rafael.add_interesse('engenharia')\n",
    "rafael.add_interesse('algoritmos')"
   ]
  },
  {
   "cell_type": "code",
   "execution_count": 6,
   "id": "86f40f33-8694-4136-9e9b-781067111f68",
   "metadata": {},
   "outputs": [
    {
     "data": {
      "text/plain": [
       "True"
      ]
     },
     "execution_count": 6,
     "metadata": {},
     "output_type": "execute_result"
    }
   ],
   "source": [
    "tiago.add_interesse('cavalo')\n",
    "tiago.add_interesse('veterinária')\n",
    "tiago.add_interesse('cachorro')"
   ]
  },
  {
   "cell_type": "code",
   "execution_count": 7,
   "id": "a77bc8f9-8486-4117-a1dd-34aef7ccd8bf",
   "metadata": {},
   "outputs": [
    {
     "data": {
      "text/plain": [
       "True"
      ]
     },
     "execution_count": 7,
     "metadata": {},
     "output_type": "execute_result"
    }
   ],
   "source": [
    "daniela.add_interesse('biomedicina')\n",
    "daniela.add_interesse('analises clinicas')\n",
    "daniela.add_interesse('estética')"
   ]
  },
  {
   "cell_type": "code",
   "execution_count": 8,
   "id": "767bf3c9-110f-472a-a04b-cd87573a85f8",
   "metadata": {},
   "outputs": [
    {
     "data": {
      "text/plain": [
       "['biomedicina', 'analises clinicas', 'estética']"
      ]
     },
     "execution_count": 8,
     "metadata": {},
     "output_type": "execute_result"
    }
   ],
   "source": [
    "daniela.lista_interesses"
   ]
  },
  {
   "cell_type": "code",
   "execution_count": 9,
   "id": "ff8f6579-833d-4c31-a2e1-0feaa7b9326a",
   "metadata": {},
   "outputs": [],
   "source": [
    "rafael.postar('Hello Word')\n",
    "rafael.postar('Bem vindos ao Data Science Degree')\n",
    "rafael.postar('Bom final de ano a todos')"
   ]
  },
  {
   "cell_type": "code",
   "execution_count": 10,
   "id": "ec95d468-bae8-4ac3-9ad7-c1ac9fe99580",
   "metadata": {},
   "outputs": [],
   "source": [
    "tiago.postar('Ola, bem vindo')\n",
    "tiago.postar('Tudo bem com vocês?')"
   ]
  },
  {
   "cell_type": "code",
   "execution_count": 11,
   "id": "26915fd9-c079-4e70-92ad-b08b9a5b8a99",
   "metadata": {},
   "outputs": [],
   "source": [
    "daniela.postar('Ola pessoal')\n",
    "daniela.postar('Estamos chegando no Natal')\n",
    "daniela.postar('Que venha 2022! Feliz Natal')"
   ]
  },
  {
   "cell_type": "code",
   "execution_count": 12,
   "id": "1133bd0e-4e99-4fb7-a5f1-12c40f5e32c6",
   "metadata": {},
   "outputs": [
    {
     "name": "stdout",
     "output_type": "stream",
     "text": [
      "1\n",
      "3\n"
     ]
    }
   ],
   "source": [
    "print(rafael.calcula_amigos())\n",
    "\n",
    "print(rafael.quantidade_posts())"
   ]
  },
  {
   "cell_type": "code",
   "execution_count": 13,
   "id": "3a3310de-4237-49d3-8059-40491b9c3781",
   "metadata": {},
   "outputs": [
    {
     "data": {
      "text/plain": [
       "['Hello Word']"
      ]
     },
     "execution_count": 13,
     "metadata": {},
     "output_type": "execute_result"
    }
   ],
   "source": [
    "rafael.busca_post('Hello')"
   ]
  },
  {
   "cell_type": "code",
   "execution_count": 14,
   "id": "823f8f95-d596-46b9-a709-08e9dc54dde3",
   "metadata": {},
   "outputs": [
    {
     "data": {
      "text/plain": [
       "['Estamos chegando no Natal', 'Que venha 2022! Feliz Natal']"
      ]
     },
     "execution_count": 14,
     "metadata": {},
     "output_type": "execute_result"
    }
   ],
   "source": [
    "daniela.busca_post('natal')"
   ]
  },
  {
   "cell_type": "code",
   "execution_count": 15,
   "id": "6d07317f-f60c-49d8-9eab-9ce8161c08f9",
   "metadata": {},
   "outputs": [
    {
     "name": "stdout",
     "output_type": "stream",
     "text": [
      "Rafael\n",
      "['Hello Word', 'Bem vindos ao Data Science Degree', 'Bom final de ano a todos'] \n",
      "\n",
      "Daniela\n",
      "['Ola pessoal', 'Estamos chegando no Natal', 'Que venha 2022! Feliz Natal'] \n",
      "\n"
     ]
    }
   ],
   "source": [
    "tiago.mostra_post_amigos()"
   ]
  },
  {
   "cell_type": "code",
   "execution_count": null,
   "id": "5a7f6f42-be2c-4d36-bf71-a41b2a40950b",
   "metadata": {},
   "outputs": [],
   "source": []
  }
 ],
 "metadata": {
  "kernelspec": {
   "display_name": "Python 3 (ipykernel)",
   "language": "python",
   "name": "python3"
  },
  "language_info": {
   "codemirror_mode": {
    "name": "ipython",
    "version": 3
   },
   "file_extension": ".py",
   "mimetype": "text/x-python",
   "name": "python",
   "nbconvert_exporter": "python",
   "pygments_lexer": "ipython3",
   "version": "3.9.7"
  }
 },
 "nbformat": 4,
 "nbformat_minor": 5
}
