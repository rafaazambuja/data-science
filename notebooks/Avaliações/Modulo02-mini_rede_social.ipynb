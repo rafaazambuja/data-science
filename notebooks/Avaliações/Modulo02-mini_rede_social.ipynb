{
 "cells": [
  {
   "cell_type": "markdown",
   "id": "51126f5b-b055-4f11-8099-7becfba76d49",
   "metadata": {},
   "source": [
    "Mini Projeto 1\n",
    "\n",
    "Você trabalha em uma Rede Social e precisa criar uma estrutura que represente as pessoas que a usam em python (com Programação Orientado a Objetos).\n",
    "É necessário guardar informações das pessoas que utilizam essa rede social:\n",
    "\n",
    "- nome\n",
    "- apelido\n",
    "- data de nascimento\n",
    "- e-mail\n",
    "- amigos\n",
    "- lista de interesses\n",
    "- posts\n",
    "\n",
    "E além disso, existem algumas funcionalidades que precisamos ter:\n",
    "\n",
    "- adicionar um amigo na lista de amigos\n",
    "- adicionar um interesse na lista interesses\n",
    "- postar\n",
    "- calcular a quantidade de amigos\n",
    "- calcular a quantidade de posts\n",
    "- dado um nome, verificar se existe uma pessoa com esse nome na sua lista de amizade\n",
    "- dado uma palavra ou frase, trazer TODOS os posts com aquela palavra (procurar post)\n",
    "- mostrar os posts dos amigos\n",
    "\n",
    "Parâmetros de correção:\n",
    "\n",
    "- Documentação\n",
    "- Bom nomes de classe, atributos, métodos, etc.\n",
    "- Lógica"
   ]
  },
  {
   "cell_type": "code",
   "execution_count": null,
   "id": "cf072c80-4679-48ce-acaa-4f79f77f4ca6",
   "metadata": {},
   "outputs": [],
   "source": [
    "class RedeSocial():\n",
    "    def __init__(self, nome, "
   ]
  },
  {
   "cell_type": "code",
   "execution_count": 9,
   "id": "8ddbb624-a7c9-44ad-8521-9355334a1ba3",
   "metadata": {},
   "outputs": [],
   "source": [
    "post = [\"Olá mundo\", \"Tchau e Olá a todos\", \"Até mais\"]"
   ]
  },
  {
   "cell_type": "code",
   "execution_count": 4,
   "id": "d65472b8-d4e3-4264-bda4-1e17fb587da8",
   "metadata": {},
   "outputs": [
    {
     "name": "stdout",
     "output_type": "stream",
     "text": [
      "False\n"
     ]
    }
   ],
   "source": [
    "if \"Olá\" in post:\n",
    "    print(True)\n",
    "else:\n",
    "    print(False)"
   ]
  },
  {
   "cell_type": "code",
   "execution_count": 10,
   "id": "94f5bcab-f5fc-4337-87c0-fb4f541602e7",
   "metadata": {},
   "outputs": [
    {
     "name": "stdout",
     "output_type": "stream",
     "text": [
      "True\n",
      "True\n",
      "False\n"
     ]
    }
   ],
   "source": [
    "for i in post:\n",
    "    if \"Olá\" in i:\n",
    "        print(True)\n",
    "    else:\n",
    "        print(False)"
   ]
  }
 ],
 "metadata": {
  "kernelspec": {
   "display_name": "Python 3 (ipykernel)",
   "language": "python",
   "name": "python3"
  },
  "language_info": {
   "codemirror_mode": {
    "name": "ipython",
    "version": 3
   },
   "file_extension": ".py",
   "mimetype": "text/x-python",
   "name": "python",
   "nbconvert_exporter": "python",
   "pygments_lexer": "ipython3",
   "version": "3.9.7"
  }
 },
 "nbformat": 4,
 "nbformat_minor": 5
}
